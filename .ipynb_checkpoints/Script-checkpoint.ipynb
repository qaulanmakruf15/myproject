{
 "cells": [
  {
   "cell_type": "code",
   "execution_count": 11,
   "metadata": {
    "ExecuteTime": {
     "end_time": "2020-10-02T10:32:39.230476Z",
     "start_time": "2020-10-02T10:32:39.223808Z"
    }
   },
   "outputs": [],
   "source": [
    "from flask import Flask, request\n",
    "import requests\n",
    "\n",
    "app = Flask(__name__)\n",
    "FB_API_URL = 'https://graph.facebook.com/v2.6/me/messages'\n",
    "\n",
    "VERIFY_TOKEN = '67Nfa61Xx8Z7CTqyhO3MKHJgJ2kaRSLWzbTff7UrYfE='\n",
    "PAGE_ACCESS_TOKEN = 'EAAp2V59oJJ8BANkM48PiumvbpO4IYpgG4Qg1ZATNwAZAg9Sjff4LvVZBqFG6mwpf8bolWMnmyD2v8cKSgoVOlKSt0wH5HGh6a9dO1sBhWmCZAptHV060XNXz3uz8Y9ApWBDHW0iZCqn8C9kq6qZBw3DEfYLM4ON3qJ5mOgn3HQRgZDZD'"
   ]
  },
  {
   "cell_type": "code",
   "execution_count": 12,
   "metadata": {
    "ExecuteTime": {
     "end_time": "2020-10-02T10:32:39.583051Z",
     "start_time": "2020-10-02T10:32:39.514840Z"
    }
   },
   "outputs": [],
   "source": [
    "def get_bot_response(message):\n",
    "    \"\"\"This is just a dummy function, returning a variation of what\n",
    "    the user said. Replace this function with one connected to chatbot.\"\"\"\n",
    "    return \"This is a dummy response to '{}'\".format(message)\n",
    "\n",
    "\n",
    "def verify_webhook(req):\n",
    "    if req.args.get(\"hub.verify_token\") == VERIFY_TOKEN:\n",
    "        return req.args.get(\"hub.challenge\")\n",
    "    else:\n",
    "        return \"incorrect\"\n",
    "\n",
    "def respond(sender, message):\n",
    "    \"\"\"Formulate a response to the user and\n",
    "    pass it on to a function that sends it.\"\"\"\n",
    "    response = get_bot_response(message)\n",
    "    send_message(sender, response)\n",
    "\n",
    "\n",
    "def is_user_message(message):\n",
    "    \"\"\"Check if the message is a message from the user\"\"\"\n",
    "    return (message.get('message') and\n",
    "            message['message'].get('text') and\n",
    "            not message['message'].get(\"is_echo\"))\n",
    "\n",
    "\n",
    "@app.route(\"/webhook\")\n",
    "def listen():\n",
    "    \"\"\"This is the main function flask uses to \n",
    "    listen at the `/webhook` endpoint\"\"\"\n",
    "    if request.method == 'GET':\n",
    "        return verify_webhook(request)\n",
    "\n",
    "    if request.method == 'POST':\n",
    "        payload = request.json\n",
    "        event = payload['entry'][0]['messaging']\n",
    "        for x in event:\n",
    "            if is_user_message(x):\n",
    "                text = x['message']['text']\n",
    "                sender_id = x['sender']['id']\n",
    "                respond(sender_id, text)\n",
    "\n",
    "        return \"ok\""
   ]
  },
  {
   "cell_type": "code",
   "execution_count": 13,
   "metadata": {
    "ExecuteTime": {
     "end_time": "2020-10-02T10:32:40.136483Z",
     "start_time": "2020-10-02T10:32:40.117768Z"
    }
   },
   "outputs": [],
   "source": [
    "def send_message(recipient_id, text):\n",
    "    \"\"\"Send a response to Facebook\"\"\"\n",
    "    payload = {\n",
    "        'message': {\n",
    "            'text': text\n",
    "        },\n",
    "        'recipient': {\n",
    "            'id': recipient_id\n",
    "        },\n",
    "        'notification_type': 'regular'\n",
    "    }\n",
    "\n",
    "    auth = {\n",
    "        'access_token': PAGE_ACCESS_TOKEN\n",
    "    }\n",
    "\n",
    "    response = requests.post(\n",
    "        FB_API_URL,\n",
    "        params=auth,\n",
    "        json=payload\n",
    "    )\n",
    "\n",
    "    return response.json()"
   ]
  },
  {
   "cell_type": "code",
   "execution_count": null,
   "metadata": {},
   "outputs": [],
   "source": []
  }
 ],
 "metadata": {
  "kernelspec": {
   "display_name": "Python 3",
   "language": "python",
   "name": "python3"
  },
  "language_info": {
   "codemirror_mode": {
    "name": "ipython",
    "version": 3
   },
   "file_extension": ".py",
   "mimetype": "text/x-python",
   "name": "python",
   "nbconvert_exporter": "python",
   "pygments_lexer": "ipython3",
   "version": "3.7.4"
  },
  "toc": {
   "base_numbering": 1,
   "nav_menu": {},
   "number_sections": true,
   "sideBar": true,
   "skip_h1_title": false,
   "title_cell": "Table of Contents",
   "title_sidebar": "Contents",
   "toc_cell": false,
   "toc_position": {},
   "toc_section_display": true,
   "toc_window_display": false
  }
 },
 "nbformat": 4,
 "nbformat_minor": 2
}
